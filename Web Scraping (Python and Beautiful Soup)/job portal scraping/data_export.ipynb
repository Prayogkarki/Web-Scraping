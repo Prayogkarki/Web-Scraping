{
 "cells": [
  {
   "cell_type": "code",
   "execution_count": 1,
   "metadata": {},
   "outputs": [],
   "source": [
    "import csv\n",
    "import sys\n",
    "import requests\n",
    "import bs4\n",
    "from bs4 import BeautifulSoup"
   ]
  },
  {
   "cell_type": "code",
   "execution_count": 2,
   "metadata": {},
   "outputs": [],
   "source": [
    "all_links=['https://www.kariyer.net/ozgecmis/cemokcu', 'https://www.kariyer.net/ozgecmis/ebrarkul', 'https://www.kariyer.net/ozgecmis/ebrarerdogan', 'https://www.kariyer.net/ozgecmis/esradurukan', 'https://www.kariyer.net/ozgecmis/alibalball', 'https://www.kariyer.net/ozgecmis/omercevik1484', 'https://www.kariyer.net/ozgecmis/omerbaylan', 'https://www.kariyer.net/ozgecmis/enesmalikgulcan', 'https://www.kariyer.net/ozgecmis/ahmetenesakosman', 'https://www.kariyer.net/ozgecmis/tahaerol', 'https://www.kariyer.net/ozgecmis/baris3408', 'https://www.kariyer.net/ozgecmis/asudezeynepdaniscv', 'https://www.kariyer.net/ozgecmis/mervegezer', 'https://www.kariyer.net/ozgecmis/mervegulener', 'https://www.kariyer.net/ozgecmis/busraayarr', 'https://www.kariyer.net/ozgecmis/busrabalci34', 'https://www.kariyer.net/ozgecmis/muhammedyalcinatlikan', 'https://www.kariyer.net/ozgecmis/muhammetdemirkoparan', 'https://www.kariyer.net/ozgecmis/ozgecmis', 'https://www.kariyer.net/ozgecmis/kubraakyol', 'https://www.kariyer.net/ozgecmis/fadimetugceerdem', 'https://www.kariyer.net/ozgecmis/tugcekya', 'https://www.kariyer.net/ozgecmis/iremyucekaya', 'https://www.kariyer.net/ozgecmis/iremonay', 'https://www.kariyer.net/ozgecmis/rumeysapeker', 'https://www.kariyer.net/ozgecmis/rumeysacengiz', 'https://www.kariyer.net/ozgecmis/beyza.gungor', 'https://www.kariyer.net/ozgecmis/ahmetcan81', 'https://www.kariyer.net/ozgecmis/ahmetozdemir813453', 'https://www.kariyer.net/ozgecmis/elifyildirim063', 'https://www.kariyer.net/ozgecmis/elifdobrucali', 'https://www.kariyer.net/ozgecmis/omerbatuhankizilisik', 'https://www.kariyer.net/ozgecmis/omerfarukozyurt1', 'https://www.kariyer.net/ozgecmis/enescamuzcu', 'https://www.kariyer.net/ozgecmis/alpererdogan38', 'https://www.kariyer.net/ozgecmis/alpercapkin', 'https://www.kariyer.net/ozgecmis/ahmetyolalaner', 'https://www.kariyer.net/ozgecmis/ahmeddemirezen', 'https://www.kariyer.net/ozgecmis/elifffatarrr', 'https://www.kariyer.net/ozgecmis/elifgulsu', 'https://www.kariyer.net/ozgecmis/cemokcu', 'https://www.kariyer.net/ozgecmis/cemokcu', 'https://www.kariyer.net/ozgecmis/ebrarkul', 'https://www.kariyer.net/ozgecmis/ebrarerdogan', 'https://www.kariyer.net/ozgecmis/esradurukan', 'https://www.kariyer.net/ozgecmis/alibalball', 'https://www.kariyer.net/ozgecmis/omercevik1484', 'https://www.kariyer.net/ozgecmis/omerbaylan', 'https://www.kariyer.net/ozgecmis/enesmalikgulcan', 'https://www.kariyer.net/ozgecmis/ahmetenesakosman', 'https://www.kariyer.net/ozgecmis/tahaerol', 'https://www.kariyer.net/ozgecmis/baris3408', 'https://www.kariyer.net/ozgecmis/asudezeynepdaniscv', 'https://www.kariyer.net/ozgecmis/mervegezer', 'https://www.kariyer.net/ozgecmis/mervegulener', 'https://www.kariyer.net/ozgecmis/busraayarr', 'https://www.kariyer.net/ozgecmis/busrabalci34', 'https://www.kariyer.net/ozgecmis/muhammedyalcinatlikan', 'https://www.kariyer.net/ozgecmis/muhammetdemirkoparan', 'https://www.kariyer.net/ozgecmis/ozgecmis', 'https://www.kariyer.net/ozgecmis/kubraakyol', 'https://www.kariyer.net/ozgecmis/fadimetugceerdem', 'https://www.kariyer.net/ozgecmis/tugcekya', 'https://www.kariyer.net/ozgecmis/iremyucekaya', 'https://www.kariyer.net/ozgecmis/iremonay', 'https://www.kariyer.net/ozgecmis/rumeysapeker', 'https://www.kariyer.net/ozgecmis/rumeysacengiz', 'https://www.kariyer.net/ozgecmis/beyza.gungor', 'https://www.kariyer.net/ozgecmis/ahmetcan81', 'https://www.kariyer.net/ozgecmis/ahmetozdemir813453', 'https://www.kariyer.net/ozgecmis/elifyildirim063', 'https://www.kariyer.net/ozgecmis/elifdobrucali', 'https://www.kariyer.net/ozgecmis/omerbatuhankizilisik', 'https://www.kariyer.net/ozgecmis/omerfarukozyurt1', 'https://www.kariyer.net/ozgecmis/enescamuzcu', 'https://www.kariyer.net/ozgecmis/alpererdogan38', 'https://www.kariyer.net/ozgecmis/alpercapkin', 'https://www.kariyer.net/ozgecmis/ahmetyolalaner', 'https://www.kariyer.net/ozgecmis/ahmeddemirezen', 'https://www.kariyer.net/ozgecmis/elifffatarrr', 'https://www.kariyer.net/ozgecmis/elifgulsu']"
   ]
  },
  {
   "cell_type": "code",
   "execution_count": 3,
   "metadata": {},
   "outputs": [
    {
     "name": "stdout",
     "output_type": "stream",
     "text": [
      "81\n"
     ]
    }
   ],
   "source": [
    "print(len(all_links))"
   ]
  },
  {
   "cell_type": "code",
   "execution_count": 4,
   "metadata": {},
   "outputs": [],
   "source": [
    "persons=[]"
   ]
  },
  {
   "cell_type": "code",
   "execution_count": 5,
   "metadata": {},
   "outputs": [],
   "source": [
    "def get_name(url):\n",
    "    response = requests.get(url)\n",
    "    html = response.content\n",
    "    soup = BeautifulSoup(html, \"html.parser\")    \n",
    "    tmp_text=\"NA\"\n",
    "    if soup.find(class_=\"candidate-name\")!=None:\n",
    "        object = soup.find(class_=\"candidate-name\")\n",
    "        tmp_text=object.text.strip().replace('\\n','').strip()\n",
    "    if tmp_text!=None or len(tmp_text)!=0:\n",
    "        return tmp_text\n",
    "    else:\n",
    "        return 'NA'"
   ]
  },
  {
   "cell_type": "code",
   "execution_count": 6,
   "metadata": {},
   "outputs": [],
   "source": [
    "def get_title(url):\n",
    "    response = requests.get(url)\n",
    "    html = response.content\n",
    "    soup = BeautifulSoup(html, \"html.parser\")    \n",
    "    tmp_text=\"NA\"\n",
    "    soup_object1 = soup.find(class_=\"candidate-job\") \n",
    "    if soup_object1!=None:\n",
    "        tmp_text=soup_object1.text.strip().replace('\\n','').strip()\n",
    "    if tmp_text==None or len(tmp_text)==0:\n",
    "        tmp_text=\"NA\"    \n",
    "    return tmp_text"
   ]
  },
  {
   "cell_type": "code",
   "execution_count": 7,
   "metadata": {},
   "outputs": [],
   "source": [
    "def get_summary(url):\n",
    "    response = requests.get(url)\n",
    "    html = response.content\n",
    "    soup = BeautifulSoup(html, \"html.parser\")    \n",
    "    tmp_text=\"NA\"\n",
    "    soup_object1 = soup.find(class_=\"resume-edit--summary-info\") \n",
    "    if soup_object1!=None:        \n",
    "        soup_object2= soup_object1.find(class_=\"content-body\")  \n",
    "        if soup_object2!=None:\n",
    "            tmp_text=soup_object2.text.strip().replace('\\n','').strip()\n",
    "        else:\n",
    "            tmp_text=\"NA\"\n",
    "        if tmp_text==None or len(tmp_text)==0:\n",
    "            tmp_text=\"NA\"\n",
    "    return tmp_text"
   ]
  },
  {
   "cell_type": "code",
   "execution_count": 8,
   "metadata": {},
   "outputs": [],
   "source": [
    "#link=all_links[0]\n",
    "#print(get_name(link))\n",
    "#print(get_title(link))\n",
    "#print(get_summary(link))"
   ]
  },
  {
   "cell_type": "code",
   "execution_count": 9,
   "metadata": {},
   "outputs": [],
   "source": [
    "def get_personal_details(count, url):\n",
    "    sn = count\n",
    "    full_name=get_name(url)\n",
    "    title=get_title(url)\n",
    "    summary=get_summary(url)\n",
    "    person = [count, url, full_name, title, summary]\n",
    "    tmp_person ={\n",
    "        'id': sn,\n",
    "        'url':url,\n",
    "        'name':full_name,\n",
    "        'title':title,\n",
    "        'summary':summary,\n",
    "    }\n",
    "    return person"
   ]
  },
  {
   "cell_type": "code",
   "execution_count": 10,
   "metadata": {},
   "outputs": [],
   "source": [
    "count = 0;\n",
    "for link in all_links:\n",
    "    count+=1\n",
    "    tmp_person = get_personal_details(count, link)\n",
    "    persons.append(tmp_person)\n",
    "    if count ==10:\n",
    "        break"
   ]
  },
  {
   "cell_type": "code",
   "execution_count": 140,
   "metadata": {},
   "outputs": [
    {
     "name": "stdout",
     "output_type": "stream",
     "text": [
      "[[1, 'https://www.kariyer.net/ozgecmis/cemokcu', 'Cem Okçu', 'İdari İşler Uzmanı', \"Askerliğimi Kıbrıs Lefkoşe'de 2013 yılında yaptım.Türkiye İhracatçılar Meclisi İstanbul İhracatçılar Birliği'nin düzenlediği Dış Ticaret Eğitimlerine katılarak sertifika alıp Dış Ticaret Operasyonlarında aktif görev alarak süreci yönetebilecek konuma geldim.\"], [2, 'https://www.kariyer.net/ozgecmis/ebrarkul', 'Ebrar Kul', 'NA', 'NA'], [3, 'https://www.kariyer.net/ozgecmis/ebrarerdogan', 'Ebrar Erdoğan', 'NA', 'NA'], [4, 'https://www.kariyer.net/ozgecmis/esradurukan', 'Esra Durukan', 'NA', 'NA'], [5, 'https://www.kariyer.net/ozgecmis/alibalball', 'Ali Talha Balbal', 'NA', 'Pedagojik Formasyon eğitimi sertifakasının yanısıra Diksiyon, beden dili, zaman yönetimi, İş sağlığı ve güvenliği, Mülakat teknikleri, motivasyon, özgüven ve iletişim becerileri gibi sertifikalarada sahibim. office programlarını aktif olarak kullanabilen ve orta düzeyde ingilizce konuşabilen bir bireyim. Sosyal olarak Çağı yakalamış Eğlenen,Öğrenen,Öğreten ve sürekli kendini geliştiren takım çalışmasına ve ekip ruhuna yatkın biriyim'], [6, 'https://www.kariyer.net/ozgecmis/omercevik1484', 'Ömer Çevik', 'NA', 'NA'], [7, 'https://www.kariyer.net/ozgecmis/omerbaylan', 'Ömer Baylan', 'NA', 'NA'], [8, 'https://www.kariyer.net/ozgecmis/enesmalikgulcan', 'Enes Malik Gülcan', 'NA', 'NA'], [9, 'https://www.kariyer.net/ozgecmis/ahmetenesakosman', 'Ahmet Enes Akosman', 'NA', \"Abant İzzet Baysal Üniversitesi'nde Uluslararası Ticaret ve Lojistik bölümü 2.sınıf öğrencisiyim. Öncelikle kariyerime bu alanda devam edebileceğim, uzun dönem veya yaz stajı programı arayışım bulunmaktadır.\"], [10, 'https://www.kariyer.net/ozgecmis/tahaerol', 'Taha Erol', 'NA', 'Abant İzzet Baysal Üniversitesi, spor yöneticiliği bölümü ve beden eğitimi öğretmenliği bölümü mezunuyum.\\xa0 sakarya üniversitesi - beden eğitimi ve spor eğitimi - yüksek lisans yapıyorum.Çağdaş marketler zincirinde tezgahtar, Ankara - gölbaşı belediyesinde işçi.\\xa0 Gönül Kahvesi personeli. * şu an Flo mağazası - satış danışmanı.']]\n"
     ]
    }
   ],
   "source": [
    "print(persons)"
   ]
  },
  {
   "cell_type": "code",
   "execution_count": 13,
   "metadata": {},
   "outputs": [],
   "source": [
    "FILE_NAME=\"persons.csv\"\n",
    "\n",
    "def write_person_info(id, person):    \n",
    "    tmp_person = [id, person[1], person[2], person[3],person[4]]\n",
    "    try:\n",
    "        file = open(FILE_NAME, \"a\", encoding='utf-8')\n",
    "        with file:\n",
    "            writer = csv.writer(file)\n",
    "            writer.writerow(tmp_person)\n",
    "            print(\"Write on csv file\")\n",
    "        file.close()\n",
    "    except:\n",
    "        print(\"Error : \"+sys.exc_info()[0])"
   ]
  },
  {
   "cell_type": "code",
   "execution_count": 14,
   "metadata": {},
   "outputs": [
    {
     "name": "stdout",
     "output_type": "stream",
     "text": [
      "Write on csv file\n",
      "Write on csv file\n",
      "Write on csv file\n",
      "Write on csv file\n",
      "Write on csv file\n",
      "Write on csv file\n",
      "Write on csv file\n",
      "Write on csv file\n",
      "Write on csv file\n",
      "Write on csv file\n"
     ]
    }
   ],
   "source": [
    "\n",
    "for person in persons:\n",
    "    write_person_info(person[0], person)\n",
    "   "
   ]
  },
  {
   "cell_type": "code",
   "execution_count": 49,
   "metadata": {},
   "outputs": [
    {
     "name": "stdout",
     "output_type": "stream",
     "text": [
      "1\n",
      "2\n",
      "3\n",
      "4\n",
      "5\n",
      "6\n",
      "7\n",
      "8\n",
      "9\n",
      "10\n"
     ]
    }
   ],
   "source": []
  },
  {
   "cell_type": "code",
   "execution_count": null,
   "metadata": {},
   "outputs": [],
   "source": [
    "jobs.csv\n",
    "id, work_id, duration, position, company_name, company_address, start_date, end_date, mode_of_study, job_description"
   ]
  },
  {
   "cell_type": "code",
   "execution_count": 189,
   "metadata": {},
   "outputs": [],
   "source": [
    "import bs4\n",
    "import requests\n",
    "import re\n",
    "from bs4 import BeautifulSoup\n",
    "\n",
    "experience=[]\n",
    "def get_work_experience_details(count,url):\n",
    "    counter=1\n",
    "    response = requests.get(url)\n",
    "    html = response.content\n",
    "    soup = BeautifulSoup(html, \"html.parser\")\n",
    "    work_experinces = soup.find('div', class_=\"resume-edit--job-experience-info\")\n",
    "    jobs = work_experinces.find_all('div', class_=\"resume-edit--job-experience\")\n",
    "    print(\"Work Experinces\")\n",
    "    for job in jobs:\n",
    "        # Duration\n",
    "        result31 = job.find('div', class_='experience-logo')\n",
    "        result31_1 = result31.find('span', class_='experience')\n",
    "        job_duration = result31_1.text.replace('\\n', '')\n",
    "       \n",
    "        experience.append(f'work_id : {counter}')\n",
    "        experience.append(\"Duration : \" + job_duration.strip())\n",
    "        \n",
    "\n",
    "        result33 = job.find('div', class_='experience-info')\n",
    "        result33_1 = result33.find_all('div', class_='row')\n",
    "        result33_1 = result33.find_all('div', class_ = re.compile('^fields col-.*'))\n",
    "        i = 0\n",
    "\n",
    "        while(i<len(result33_1)):\n",
    "            value1 = result33_1[i].find('span', class_=\"field-name\")\n",
    "            value2 = result33_1[i].find('span', class_ = re.compile('^field-content.*'))\n",
    "            if value1!=None and value2!=None:\n",
    "                ab=(value1.text.strip()+\" \" +value2.text.strip())\n",
    "                \n",
    "                experience.append(ab)\n",
    "                \n",
    "\n",
    "            i+=1\n",
    "        counter+=1\n",
    "        \n",
    "    \n",
    "    list2=list()\n",
    "    tmp=[]\n",
    "    list1=[]\n",
    "    substr=\" work_id \"\n",
    "    for i in experience:\n",
    "        if substr in i :\n",
    "            list1.clear()\n",
    "            list1.append(i)\n",
    "\n",
    "        elif 'work_id' not in i :\n",
    "            list1.append(i)\n",
    "\n",
    "        else:             \n",
    "            #print(list1)\n",
    "            tmp=list1.copy()\n",
    "            list2.append(tmp)\n",
    "            list1.clear()\n",
    "\n",
    "            list1.append(i)        \n",
    "    \n",
    "        \n",
    "    return list2[1:]\n",
    "        \n",
    "        \n",
    "        \n",
    "        \n",
    "FILE_NAME=\"experience.csv\"\n",
    "\n",
    "def write_experience_details(id, experience):    \n",
    "    tmp_person = [id, experience[1], experience[2], experience[3],experience[4]]\n",
    "    try:\n",
    "        file = open(FILE_NAME, \"a\", encoding='utf-8')\n",
    "        with file:\n",
    "            writer = csv.writer(file)\n",
    "            writer.writerow(tmp_person)\n",
    "            print(\"Write on csv file\")\n",
    "        file.close()\n",
    "    except:\n",
    "        print(\"Error : \"+sys.exc_info()[0])"
   ]
  },
  {
   "cell_type": "code",
   "execution_count": 190,
   "metadata": {},
   "outputs": [
    {
     "name": "stdout",
     "output_type": "stream",
     "text": [
      "Work Experinces\n",
      "[['work_id : 1', 'Duration : 5 yıl 4 ay', 'Pozisyon İdari İşler Memuru', 'Firma Adı Abant İzzet Baysal Üniversitesi', 'Şehir Bolu', 'Başlangıç Tarihi 01.2015', 'Bitiş Tarihi Hala çalışıyorum', 'Çalışma Şekli Sürekli / Tam zamanlı', 'İş Tanımı Abant İzzet Baysal Üniversitesi İdari ve Mali İşler Daire Başkanlığı Zorunlu Gider ve Kamu Konutları Ofisinde ünvanım Bilgisayar İşletmeni\\xa0 olarak Üniversitemin Telefon,Faks,Doğalgaz,Su,Elektrik ödemelerini ve tahsilatlarını yapmanın yanı sıra Üniversitemin bünyesinde bulunan Kamu Konutlarının her türlü işlemini ( idari ve akademik personele teslim,iadesi,elektrik,su,doğalgaz vb.işlemlerini yerine getiriyorum.) yapıyorum.']]\n"
     ]
    }
   ],
   "source": [
    "url=\"https://www.kariyer.net/ozgecmis/cemokcu\"\n",
    "data=get_work_experience_details(1,url)\n",
    "print(data)"
   ]
  },
  {
   "cell_type": "code",
   "execution_count": 186,
   "metadata": {},
   "outputs": [
    {
     "name": "stdout",
     "output_type": "stream",
     "text": [
      "Work Experinces\n"
     ]
    },
    {
     "ename": "AttributeError",
     "evalue": "'NoneType' object has no attribute 'find_all'",
     "output_type": "error",
     "traceback": [
      "\u001b[0;31m---------------------------------------------------------------------------\u001b[0m",
      "\u001b[0;31mAttributeError\u001b[0m                            Traceback (most recent call last)",
      "\u001b[0;32m<ipython-input-186-f82151d797b6>\u001b[0m in \u001b[0;36m<module>\u001b[0;34m\u001b[0m\n\u001b[1;32m      3\u001b[0m \u001b[0;32mfor\u001b[0m \u001b[0murl\u001b[0m \u001b[0;32min\u001b[0m \u001b[0mall_links\u001b[0m\u001b[0;34m:\u001b[0m\u001b[0;34m\u001b[0m\u001b[0;34m\u001b[0m\u001b[0m\n\u001b[1;32m      4\u001b[0m \u001b[0;34m\u001b[0m\u001b[0m\n\u001b[0;32m----> 5\u001b[0;31m     \u001b[0mdata\u001b[0m\u001b[0;34m=\u001b[0m\u001b[0mget_work_experience_details\u001b[0m\u001b[0;34m(\u001b[0m\u001b[0mcounter\u001b[0m\u001b[0;34m,\u001b[0m\u001b[0murl\u001b[0m\u001b[0;34m)\u001b[0m\u001b[0;34m\u001b[0m\u001b[0;34m\u001b[0m\u001b[0m\n\u001b[0m\u001b[1;32m      6\u001b[0m     \u001b[0mall_experience\u001b[0m\u001b[0;34m.\u001b[0m\u001b[0mappend\u001b[0m\u001b[0;34m(\u001b[0m\u001b[0mdata\u001b[0m\u001b[0;34m)\u001b[0m\u001b[0;34m\u001b[0m\u001b[0;34m\u001b[0m\u001b[0m\n\u001b[1;32m      7\u001b[0m     \u001b[0mcounter\u001b[0m\u001b[0;34m+=\u001b[0m\u001b[0;36m1\u001b[0m\u001b[0;34m\u001b[0m\u001b[0;34m\u001b[0m\u001b[0m\n",
      "\u001b[0;32m<ipython-input-184-2718c0a82238>\u001b[0m in \u001b[0;36mget_work_experience_details\u001b[0;34m(count, url)\u001b[0m\n\u001b[1;32m     11\u001b[0m     \u001b[0msoup\u001b[0m \u001b[0;34m=\u001b[0m \u001b[0mBeautifulSoup\u001b[0m\u001b[0;34m(\u001b[0m\u001b[0mhtml\u001b[0m\u001b[0;34m,\u001b[0m \u001b[0;34m\"html.parser\"\u001b[0m\u001b[0;34m)\u001b[0m\u001b[0;34m\u001b[0m\u001b[0;34m\u001b[0m\u001b[0m\n\u001b[1;32m     12\u001b[0m     \u001b[0mwork_experinces\u001b[0m \u001b[0;34m=\u001b[0m \u001b[0msoup\u001b[0m\u001b[0;34m.\u001b[0m\u001b[0mfind\u001b[0m\u001b[0;34m(\u001b[0m\u001b[0;34m'div'\u001b[0m\u001b[0;34m,\u001b[0m \u001b[0mclass_\u001b[0m\u001b[0;34m=\u001b[0m\u001b[0;34m\"resume-edit--job-experience-info\"\u001b[0m\u001b[0;34m)\u001b[0m\u001b[0;34m\u001b[0m\u001b[0;34m\u001b[0m\u001b[0m\n\u001b[0;32m---> 13\u001b[0;31m     \u001b[0mjobs\u001b[0m \u001b[0;34m=\u001b[0m \u001b[0mwork_experinces\u001b[0m\u001b[0;34m.\u001b[0m\u001b[0mfind_all\u001b[0m\u001b[0;34m(\u001b[0m\u001b[0;34m'div'\u001b[0m\u001b[0;34m,\u001b[0m \u001b[0mclass_\u001b[0m\u001b[0;34m=\u001b[0m\u001b[0;34m\"resume-edit--job-experience\"\u001b[0m\u001b[0;34m)\u001b[0m\u001b[0;34m\u001b[0m\u001b[0;34m\u001b[0m\u001b[0m\n\u001b[0m\u001b[1;32m     14\u001b[0m     \u001b[0mprint\u001b[0m\u001b[0;34m(\u001b[0m\u001b[0;34m\"Work Experinces\"\u001b[0m\u001b[0;34m)\u001b[0m\u001b[0;34m\u001b[0m\u001b[0;34m\u001b[0m\u001b[0m\n\u001b[1;32m     15\u001b[0m     \u001b[0;32mfor\u001b[0m \u001b[0mjob\u001b[0m \u001b[0;32min\u001b[0m \u001b[0mjobs\u001b[0m\u001b[0;34m:\u001b[0m\u001b[0;34m\u001b[0m\u001b[0;34m\u001b[0m\u001b[0m\n",
      "\u001b[0;31mAttributeError\u001b[0m: 'NoneType' object has no attribute 'find_all'"
     ]
    }
   ],
   "source": [
    "all_experience=[]\n",
    "counter=1\n",
    "for url in all_links:\n",
    "    \n",
    "    data=get_work_experience_details(counter,url)\n",
    "    all_experience.append(data)\n",
    "    counter+=1\n",
    "    if counter==10:\n",
    "        break\n",
    "    \n",
    "\n",
    "\n",
    "# print()"
   ]
  },
  {
   "cell_type": "code",
   "execution_count": 133,
   "metadata": {},
   "outputs": [
    {
     "name": "stdout",
     "output_type": "stream",
     "text": [
      "[['work_id : 1', 'Duration : 6 ay', 'Pozisyon Yönetici Asistanı', 'Firma Adı krclab', 'Şehir Ankara', 'Başlangıç Tarihi 11.2019', 'Bitiş Tarihi Hala çalışıyorum', 'Çalışma Şekli Sürekli / Tam zamanlı'], ['work_id : 2', 'Duration : 10 ay', 'Pozisyon Resim İş Öğretmeni', 'Firma Adı Halk Eğitim Merkezi', 'Şehir Düzce', 'Başlangıç Tarihi 01.2019', 'Bitiş Tarihi 10.2019', 'Çalışma Şekli Sürekli / Tam zamanlı'], ['work_id : 3', 'Duration : 11 ay', 'Pozisyon Tasarım Elemanı', 'Firma Adı Confetti Halı Sanayi A.Ş.', 'Şehir Düzce', 'Başlangıç Tarihi 02.2017', 'Bitiş Tarihi 12.2017', 'Çalışma Şekli Sürekli / Tam zamanlı', 'İş Tanımı Desinatör ve üretim takibi'], ['work_id : 4', 'Duration : 1 yıl 2 ay', 'Pozisyon Resim İş Öğretmeni', 'Firma Adı Halk Eğitim Merkezi', 'Şehir Düzce', 'Başlangıç Tarihi 01.2016', 'Bitiş Tarihi 02.2017', 'Çalışma Şekli Sürekli / Tam zamanlı', 'İş Tanımı Kalk eğitim kurumu aracılığı ile mahkumlara resim eğitimi verdim'], ['work_id : 5', 'Duration : 5 ay', 'Pozisyon Grafik Tasarım Sorumlusu', 'Firma Adı Sma Metrostar', 'Şehir İstanbul(Asya)', 'Başlangıç Tarihi 08.2015', 'Bitiş Tarihi 12.2015', 'Çalışma Şekli Sürekli / Tam zamanlı']]\n"
     ]
    }
   ],
   "source": [
    "\n",
    "list2=list()\n",
    "tmp=[]\n",
    "list1=[]\n",
    "substr=\" work_id \"\n",
    "for i in a:\n",
    "    if substr in i :\n",
    "        list1.clear()\n",
    "        list1.append(i)\n",
    "        \n",
    "    elif 'work_id' not in i :\n",
    "        list1.append(i)\n",
    "        \n",
    "    else:             \n",
    "        #print(list1)\n",
    "        tmp=list1.copy()\n",
    "        list2.append(tmp)\n",
    "        list1.clear()\n",
    "        \n",
    "        list1.append(i)        \n",
    "print(list2[1:])\n",
    "        "
   ]
  },
  {
   "cell_type": "code",
   "execution_count": 192,
   "metadata": {},
   "outputs": [],
   "source": [
    "def get_work_experinces(person_id, url): \n",
    "    personal_url = url\n",
    "    response = requests.get(personal_url)\n",
    "    html = response.content\n",
    "    soup = BeautifulSoup(html, \"html.parser\")\n",
    "    work_experinces = soup.find('div', class_=\"resume-edit--job-experience-info\")\n",
    "    jobs = work_experinces.find_all('div', class_=\"resume-edit--job-experience\")\n",
    "    print(\"Work Experinces\")\n",
    "    id = 1\n",
    "    experinces=[]    \n",
    "    for job in jobs:\n",
    "        experince=[]\n",
    "         # Duration\n",
    "        result31 = job.find('div', class_='experience-logo')\n",
    "        result31_1 = result31.find('span', class_='experience')\n",
    "        job_duration = result31_1.text.replace('\\n', '')\n",
    "        #print(\"ID : \",id)\n",
    "        #print(\"Duration : \",job_duration.strip())        \n",
    "        experince.append(person_id)\n",
    "        experince.append(id)\n",
    "        experince.append(job_duration.strip())\n",
    "        \n",
    "        result33 = job.find('div', class_='experience-info')\n",
    "        result33_1 = result33.find_all('div', class_='row')\n",
    "        result33_1 = result33.find_all('div', class_ = re.compile('^fields col-.*'))\n",
    "        i = 0\n",
    "        while(i<len(result33_1)):\n",
    "            value1 = result33_1[i].find('span', class_=\"field-name\")\n",
    "            value2 = result33_1[i].find('span', class_ = re.compile('^field-content.*'))\n",
    "            if value1!=None and value2!=None:\n",
    "                #print(value1.text.strip(), \" : \", value2.text.strip())\n",
    "                experince.append(value2.text.strip())\n",
    "            i+=1\n",
    "        id+=1\n",
    "        experinces.append(experince.copy())\n",
    "        #print(\"-------------------------------------------------------------\")\n",
    "    return(experinces)\n",
    "       "
   ]
  },
  {
   "cell_type": "code",
   "execution_count": 196,
   "metadata": {},
   "outputs": [
    {
     "name": "stdout",
     "output_type": "stream",
     "text": [
      "Work Experinces\n",
      "[[1, 1, '6 ay', 'Yönetici Asistanı', 'krclab', 'Ankara', '11.2019', 'Hala çalışıyorum', 'Sürekli / Tam zamanlı'], [1, 2, '10 ay', 'Resim İş Öğretmeni', 'Halk Eğitim Merkezi', 'Düzce', '01.2019', '10.2019', 'Sürekli / Tam zamanlı'], [1, 3, '11 ay', 'Tasarım Elemanı', 'Confetti Halı Sanayi A.Ş.', 'Düzce', '02.2017', '12.2017', 'Sürekli / Tam zamanlı', 'Desinatör ve üretim takibi'], [1, 4, '1 yıl 2 ay', 'Resim İş Öğretmeni', 'Halk Eğitim Merkezi', 'Düzce', '01.2016', '02.2017', 'Sürekli / Tam zamanlı', 'Kalk eğitim kurumu aracılığı ile mahkumlara resim eğitimi verdim'], [1, 5, '5 ay', 'Grafik Tasarım Sorumlusu', 'Sma Metrostar', 'İstanbul(Asya)', '08.2015', '12.2015', 'Sürekli / Tam zamanlı'], [1, 6, '1 yıl 1 ay', 'Grafik Tasarım Sorumlusu', 'şenil reklam', '09.2010', '09.2011']]\n"
     ]
    }
   ],
   "source": [
    "url=\"https://www.kariyer.net/ozgecmis/ahmetcan81\"\n",
    "a=get_work_experinces(1,url)\n",
    "print(a)"
   ]
  },
  {
   "cell_type": "code",
   "execution_count": 197,
   "metadata": {},
   "outputs": [
    {
     "name": "stdout",
     "output_type": "stream",
     "text": [
      "<div class=\"row university-info\">\n",
      "<div class=\"row\">\n",
      "<div class=\"fields col-4\">\n",
      "<span class=\"field-name\">Üniversite</span>\n",
      "<span class=\"field-content\">Abant İzzet Baysal Üniversitesi</span>\n",
      "</div>\n",
      "<div class=\"fields col-4\"><span class=\"field-name\">Bölüm</span> <span class=\"field-content\">Resim-İş Öğretmenliği</span></div>\n",
      "</div>\n",
      "<div class=\"row\">\n",
      "<div class=\"fields col-4\">\n",
      "<span class=\"field-name\">Başlangıç Tarihi</span> <span class=\"field-content date\">08.2010</span>\n",
      "</div>\n",
      "<div class=\"fields col-4\">\n",
      "<span class=\"field-name\">Bitiş Tarihi</span> <span class=\"field-content date\">\r\n",
      "08.2014                                                                            </span>\n",
      "</div>\n",
      "</div>\n",
      "<div class=\"row\">\n",
      "<div class=\"fields col-4\"><span class=\"field-name\">Öğretim Tipi</span> <span class=\"field-content\">Örgün Öğretim</span></div>\n",
      "<div class=\"fields col-4\"><span class=\"field-name\">Öğretim Dili</span> <span class=\"field-content\">Türkçe</span></div>\n",
      "</div>\n",
      "<div class=\"row university-info\">\n",
      "<div class=\"fields col-4\">\n",
      "<div class=\"row\">\n",
      "<div class=\"fields col-16\"><span class=\"field-name\">Yandal Bölüm</span> <span class=\"field-content\">Grafik Sanatları</span></div>\n",
      "</div>\n",
      "</div>\n",
      "</div>\n",
      "</div>\n",
      "----------------------------------------------\n",
      "<div class=\"row university-info\">\n",
      "<div class=\"row\">\n",
      "<div class=\"fields col-4\">\n",
      "<span class=\"field-name\">Lise Adı</span>\n",
      "<span class=\"field-content\">Güzel Sanatlar lisesi</span>\n",
      "</div>\n",
      "<div class=\"fields col-4\"><span class=\"field-name\">Bölüm</span> <span class=\"field-content\">Resim</span></div>\n",
      "</div>\n",
      "<div class=\"row\">\n",
      "<div class=\"fields col-4\">\n",
      "<span class=\"field-name\">Bitiş Tarihi</span> <span class=\"field-content date\">\r\n",
      "05.2010                                                                            </span>\n",
      "</div>\n",
      "</div>\n",
      "<div class=\"row\">\n",
      "<div class=\"fields col-4\"><span class=\"field-name\">Öğretim Tipi</span> <span class=\"field-content\">Güzel Sanatlar Lisesi</span></div>\n",
      "</div>\n",
      "</div>\n",
      "----------------------------------------------\n"
     ]
    }
   ],
   "source": [
    "## education info \n",
    "\n",
    "import bs4\n",
    "import requests\n",
    "import re\n",
    "from bs4 import BeautifulSoup\n",
    "personal_url = 'https://www.kariyer.net/ozgecmis/ahmetcan81'\n",
    "response = requests.get(personal_url)\n",
    "html = response.content\n",
    "soup = BeautifulSoup(html, \"html.parser\")\n",
    "sobject_1 = soup.find('div', class_=\"resume-edit--education-info\")\n",
    "sobject_2 = sobject_1.find('div', class_=\"resume-edit--box\")\n",
    "sobject_3 = sobject_2.find('div', class_=\"container\")\n",
    "sobject_4 = sobject_3.find_all('div', class_=\"university\")\n",
    "#print(len(sobject_4))\n",
    "for tmp_obj1 in sobject_4: \n",
    "    #result5 = tmp_obj1.find('div', class_='fields col-16 education-status')    \n",
    "    #result6 = result5.find('span', class_='field-content')    \n",
    "    #university_name = result6.text\n",
    "    #print(university_name)\n",
    "    result7 = tmp_obj1.find('div', class_='fields col-13')\n",
    "    result8 = tmp_obj1.find('div', class_='row university-info')\n",
    "    print(result8)    \n",
    "    print(\"----------------------------------------------\")"
   ]
  },
  {
   "cell_type": "code",
   "execution_count": 218,
   "metadata": {},
   "outputs": [
    {
     "name": "stdout",
     "output_type": "stream",
     "text": [
      "['Lisans', 'Üniversite', 'Abant İzzet Baysal Üniversitesi', 'Bölüm', 'Resim-İş Öğretmenliği', 'Başlangıç Tarihi', '08.2010', 'Bitiş Tarihi', '\\r\\n08.2014                                                                            ', 'Öğretim Tipi', 'Örgün Öğretim', 'Öğretim Dili', 'Türkçe', 'Yandal Bölüm', 'Grafik Sanatları']\n",
      "['Lise', 'Lise Adı', 'Güzel Sanatlar lisesi', 'Bölüm', 'Resim', 'Bitiş Tarihi', '\\r\\n05.2010                                                                            ', 'Öğretim Tipi', 'Güzel Sanatlar Lisesi']\n",
      "<class 'bs4.element.ResultSet'>\n"
     ]
    }
   ],
   "source": [
    "##full check ## education\n",
    "import requests\n",
    "from bs4 import BeautifulSoup\n",
    "\n",
    "url='https://www.kariyer.net/ozgecmis/ahmetcan81?fbclid=IwAR3vLsuVsGp3rYWfxjAzWPRTpAdwpwahFYCO7DlTyQP5Gs1aX3W7ZP-I_vc'\n",
    "\n",
    "r=requests.get(url)\n",
    "htmlContent=r.content\n",
    "\n",
    "soup=BeautifulSoup(htmlContent,'html.parser')\n",
    "\n",
    "ec=soup.find_all('div',class_='resume-edit--education-info')\n",
    "edu=[]\n",
    "for i in ec:\n",
    "    \n",
    "    for span in i.find_all('span',{'class':['field-name','field-content']}):\n",
    "        edu.append(span.text)\n",
    "        \n",
    "uni_name_loc=edu.index(\"Lisans\")\n",
    "high_name_loc=edu.index(\"Lise\")\n",
    "list1=edu[uni_name_loc:high_name_loc]\n",
    "list2=edu[high_name_loc:]\n",
    "\n",
    "print(list1)\n",
    "print(list2)\n",
    "        \n",
    "            \n",
    "        \n",
    "print(type(ec))\n",
    "      "
   ]
  },
  {
   "cell_type": "code",
   "execution_count": 231,
   "metadata": {
    "scrolled": true
   },
   "outputs": [
    {
     "name": "stdout",
     "output_type": "stream",
     "text": [
      "[['Abant İzzet Baysal Üniversitesi', 'Resim-İş Öğretmenliği', '08.2010', '\\r\\n08.2014                                                                            ', 'Örgün Öğretim', 'Türkçe', 'Grafik Sanatları'], ['Güzel Sanatlar lisesi', 'Resim', '\\r\\n05.2010                                                                            ', 'Güzel Sanatlar Lisesi']]\n"
     ]
    }
   ],
   "source": [
    "## education info \n",
    "\n",
    "import bs4\n",
    "import requests\n",
    "import re\n",
    "from bs4 import BeautifulSoup\n",
    "\n",
    "educa=[]\n",
    "\n",
    "\n",
    "personal_url = 'https://www.kariyer.net/ozgecmis/ahmetcan81'\n",
    "\n",
    "response = requests.get(personal_url)\n",
    "html = response.content\n",
    "soup = BeautifulSoup(html, \"html.parser\")\n",
    "sobject_1 = soup.find('div', class_=\"resume-edit--competences-info\")\n",
    "sobject_2 = sobject_1.find('div', class_=\"resume-edit--box\")\n",
    "sobject_3 = sobject_2.find('div', class_=\"container\")\n",
    "sobject_4 = sobject_3.find_all('div', class_=\"university\")\n",
    "#print(len(sobject_4))\n",
    "edu=[]\n",
    "temp=[]\n",
    "educations=[]\n",
    "for tmp_obj1 in sobject_4: \n",
    "    \n",
    "    result7 = tmp_obj1.find('div', class_='fields col-13')\n",
    "    result8 = tmp_obj1.find('div', class_='row university-info')\n",
    "\n",
    "    for span in result8.find_all('span',class_=['field-content']):\n",
    "        edu.append(span.text)\n",
    "\n",
    "    temp=edu.copy()\n",
    "    edu.clear()\n",
    "    educations.append(temp)\n",
    "print(educations)\n",
    "\n",
    "\n",
    "    \n",
    "    \n"
   ]
  },
  {
   "cell_type": "code",
   "execution_count": 292,
   "metadata": {},
   "outputs": [
    {
     "name": "stdout",
     "output_type": "stream",
     "text": [
      "['Dil', 'Seviye', '\\r\\nİngilizce                                                                        \\nOrta\\n', 'Orta', '\\n\\n', '']\n"
     ]
    }
   ],
   "source": [
    "## language info \n",
    "\n",
    "import bs4\n",
    "import requests\n",
    "import re\n",
    "from bs4 import BeautifulSoup\n",
    "\n",
    "\n",
    "lang=[]\n",
    "temp=[]\n",
    "languages=[]\n",
    "\n",
    "\n",
    "personal_url = 'https://www.kariyer.net/ozgecmis/ahmetcan81'\n",
    "\n",
    "response = requests.get(personal_url)\n",
    "html = response.content\n",
    "soup = BeautifulSoup(html, \"html.parser\")\n",
    "sobject_1 = soup.find('div', class_=\"resume-edit--languages-info\")\n",
    "sobject_2 = sobject_1.find('div', class_=\"resume-edit--box\")\n",
    "sobject_3 = sobject_2.find('div', class_=\"container\")\n",
    "sobject_4 = sobject_3.find_all('span', class_=[\"field-name\",'field-content'])\n",
    "\n",
    "# print(sobject_3)\n",
    "\n",
    "span=sobject_3.select('span',class_='field-content')\n",
    "for i in span:\n",
    "    lang.append(i.text)\n",
    "    \n",
    "print(lang)\n",
    "\n",
    "    \n",
    "    \n"
   ]
  },
  {
   "cell_type": "code",
   "execution_count": 324,
   "metadata": {
    "scrolled": true
   },
   "outputs": [
    {
     "name": "stdout",
     "output_type": "stream",
     "text": [
      "[['\\xa0', 'Bilgisayar Bilgileri', '\\xa0', 'Microsoft Office adebe photoshop illüstratör indesgn freehan dreamwevaer flash php mysql java 3d studio max vray mantal ray vb. yazılımları iyi derce kullanmaktayım'], ['Sertifika Bilgileri', 'Sertifika Adı', 'TOPLUM LİDERLERİ GELİYOR', 'Sertifika Tarihi', '11.2012', 'Alındığı Kurum', 'ROTARY KULÜBÜ', 'Açıklama', 'KATILDIĞI SEMİNERLER VE ETKİNLİKLER : \\r\\nStres ve zeka Yönetimi-\\r\\nYeter ki inan-\\r\\nLiderlik-\\r\\nGörgü Görenek-\\r\\nBeden Dili-\\r\\nMotivasyon ve Özgüven-\\r\\nGüzel Giyinmenin Sırları-\\r\\nTakım Oyunları-\\r\\nEtkili İletişim-\\r\\nKendi Everestinize Tırmanın-\\r\\nCilt Bakımı ve Makyaz Eğitimi', 'Sertifika Adı', 'BİLGİSAYAR MESLEK DALI EĞİTİM PROGRAMLARI KURS SERTİFİKASI', 'Sertifika Tarihi', '07.2004', 'Alındığı Kurum', 'MED', 'Açıklama', 'Kurs içeriği:\\r\\nWindows\\r\\nWord\\r\\nExel\\r\\nPower Point\\r\\nAcces\\r\\nİnternet Erişim'], ['Seminerler ve Kurslar', 'Eğitim Adı', 'MEB onaylı elginkan vakfı 3d studio max', 'Eğitim Tarihi', '\\r\\n                                                                                01.03.2012  01.04.2012\\r\\n                                                                                \\r\\n                                                                            ', 'Süre (Saat)', '68 Saat', 'Eğitim Kurumu', 'Elignkan Vakfı', 'Eğitim Adı', 'Grafik Tasarım ve Animasyon Uygulamaları', 'Eğitim Tarihi', '\\r\\n                                                                                01.05.2011  01.06.2011\\r\\n                                                                                \\r\\n                                                                            ', 'Süre (Saat)', '90 Saat', 'Eğitim Kurumu', 'Elginkan Vakfı'], ['Yetenekler', 'JavaScript Object Notation (JSON)', 'Resim', 'Ressam', 'Resim Yapmak', 'Responsive Design', 'Öğretmen', 'jQuery', 'HTML5', 'jQuery', 'Art Diractor', 'CSS / HTML', 'PHP (İyi)', 'Html, Css, Php', 'Apache PHP Mysql', 'Adobe After Effects(İleri)', 'Adobe Indesign (Üst Seviye)', 'Adobe Flash (İyi Seviye)', '•\\tAdobe Dreamwear(İyi Derece)', '•\\tAdobe Illustrator(İyi Derece)', '•\\tAdobe Photoshop(İyi Derece)', 'Mental Ray Renderer', '3D Max', '3D Design', '3D Animation', 'Profesyönel Fotoğrafçılık', 'Grafık Tasarım', 'Resim Öğretmeni', 'Grafık Tasarım Resım', 'Görsel Tasarım Ve  Sanatsal Çizim Resim']]\n"
     ]
    }
   ],
   "source": [
    "## education info \n",
    "\n",
    "import bs4\n",
    "import requests\n",
    "import re\n",
    "from bs4 import BeautifulSoup\n",
    "personal_url = 'https://www.kariyer.net/ozgecmis/ahmetcan81'\n",
    "response = requests.get(personal_url)\n",
    "html = response.content\n",
    "soup = BeautifulSoup(html, \"html.parser\")\n",
    "comp=[]\n",
    "temp=[]\n",
    "index=[0,1,6,11]\n",
    "mix_comp=[]\n",
    "competences=[]\n",
    "sobject_1 = soup.find('div', class_=\"resume-edit--competences-info\")\n",
    "sobject_2 = sobject_1.find('div', class_=\"resume-edit--box\")\n",
    "sobject_3 = sobject_2.find('div', class_=\"container\")\n",
    "sobject_4 = sobject_3.find_all('div', class_=\"row\")\n",
    "#print(len(sobject_4))\n",
    "for tmp_obj1 in sobject_4: \n",
    "    for span in tmp_obj1.find_all('span',class_=['field-name','field-content']):\n",
    "        comp.append(span.text)\n",
    "    temp=comp.copy()\n",
    "    comp.clear()\n",
    "    mix_comp.append(temp)\n",
    "for i in index:\n",
    "    competences.append(mix_comp[i])\n",
    "    \n",
    "print(competences)\n",
    "\n",
    "    \n",
    "#     result7 = tmp_obj1.find('div', class_='fields col-3')\n",
    "#     result8 = tmp_obj1.find('div', class_='fields col-13')\n",
    "#     print(tmp_obj1)    \n",
    "#     print(\"----------------------------------------------\")\n",
    "\n",
    "     "
   ]
  },
  {
   "cell_type": "code",
   "execution_count": 322,
   "metadata": {},
   "outputs": [
    {
     "ename": "TypeError",
     "evalue": "'list' object cannot be interpreted as an integer",
     "output_type": "error",
     "traceback": [
      "\u001b[0;31m---------------------------------------------------------------------------\u001b[0m",
      "\u001b[0;31mTypeError\u001b[0m                                 Traceback (most recent call last)",
      "\u001b[0;32m<ipython-input-322-8b62c8516f94>\u001b[0m in \u001b[0;36m<module>\u001b[0;34m\u001b[0m\n\u001b[1;32m      1\u001b[0m \u001b[0ma\u001b[0m \u001b[0;34m=\u001b[0m \u001b[0;34m[\u001b[0m\u001b[0;36m4\u001b[0m\u001b[0;34m,\u001b[0m \u001b[0;36m3\u001b[0m\u001b[0;34m,\u001b[0m \u001b[0;36m5\u001b[0m\u001b[0;34m]\u001b[0m\u001b[0;34m\u001b[0m\u001b[0;34m\u001b[0m\u001b[0m\n\u001b[0;32m----> 2\u001b[0;31m \u001b[0ma\u001b[0m\u001b[0;34m.\u001b[0m\u001b[0mpop\u001b[0m\u001b[0;34m(\u001b[0m\u001b[0;34m[\u001b[0m\u001b[0;36m0\u001b[0m\u001b[0;34m,\u001b[0m\u001b[0;36m1\u001b[0m\u001b[0;34m]\u001b[0m\u001b[0;34m)\u001b[0m\u001b[0;34m\u001b[0m\u001b[0;34m\u001b[0m\u001b[0m\n\u001b[0m",
      "\u001b[0;31mTypeError\u001b[0m: 'list' object cannot be interpreted as an integer"
     ]
    }
   ],
   "source": []
  },
  {
   "cell_type": "code",
   "execution_count": 352,
   "metadata": {
    "scrolled": false
   },
   "outputs": [
    {
     "name": "stdout",
     "output_type": "stream",
     "text": [
      "[['\\n\\n\\xa0\\nBilgisayar Bilgileri\\n\\n\\n\\xa0\\nMicrosoft Office adebe photoshop illüstratör indesgn freehan dreamwevaer flash php mysql java 3d studio max vray mantal ray vb. yazılımları iyi derce kullanmaktayım\\n\\n', '\\n\\xa0\\nBilgisayar Bilgileri\\n', '\\n\\xa0\\nMicrosoft Office adebe photoshop illüstratör indesgn freehan dreamwevaer flash php mysql java 3d studio max vray mantal ray vb. yazılımları iyi derce kullanmaktayım\\n', '\\n\\nSertifika Bilgileri\\n\\n\\n\\n\\n\\nSertifika Adı\\nTOPLUM LİDERLERİ GELİYOR\\n\\n\\nSertifika Tarihi 11.2012\\n\\nAlındığı Kurum ROTARY KULÜBÜ\\n\\n\\nAçıklama KATILDIĞI SEMİNERLER VE ETKİNLİKLER : \\r\\nStres ve zeka Yönetimi-\\r\\nYeter ki inan-\\r\\nLiderlik-\\r\\nGörgü Görenek-\\r\\nBeden Dili-\\r\\nMotivasyon ve Özgüven-\\r\\nGüzel Giyinmenin Sırları-\\r\\nTakım Oyunları-\\r\\nEtkili İletişim-\\r\\nKendi Everestinize Tırmanın-\\r\\nCilt Bakımı ve Makyaz Eğitimi\\n\\n\\n\\n\\n\\nSertifika Adı\\nBİLGİSAYAR MESLEK DALI EĞİTİM PROGRAMLARI KURS SERTİFİKASI\\n\\n\\nSertifika Tarihi 07.2004\\n\\nAlındığı Kurum MED\\n\\n\\nAçıklama Kurs içeriği:\\r\\nWindows\\r\\nWord\\r\\nExel\\r\\nPower Point\\r\\nAcces\\r\\nİnternet Erişim\\n\\n\\n\\n', '\\nSertifika Bilgileri\\n', '\\n\\n\\n\\nSertifika Adı\\nTOPLUM LİDERLERİ GELİYOR\\n\\n\\nSertifika Tarihi 11.2012\\n\\nAlındığı Kurum ROTARY KULÜBÜ\\n\\n\\nAçıklama KATILDIĞI SEMİNERLER VE ETKİNLİKLER : \\r\\nStres ve zeka Yönetimi-\\r\\nYeter ki inan-\\r\\nLiderlik-\\r\\nGörgü Görenek-\\r\\nBeden Dili-\\r\\nMotivasyon ve Özgüven-\\r\\nGüzel Giyinmenin Sırları-\\r\\nTakım Oyunları-\\r\\nEtkili İletişim-\\r\\nKendi Everestinize Tırmanın-\\r\\nCilt Bakımı ve Makyaz Eğitimi\\n\\n\\n\\n\\n\\nSertifika Adı\\nBİLGİSAYAR MESLEK DALI EĞİTİM PROGRAMLARI KURS SERTİFİKASI\\n\\n\\nSertifika Tarihi 07.2004\\n\\nAlındığı Kurum MED\\n\\n\\nAçıklama Kurs içeriği:\\r\\nWindows\\r\\nWord\\r\\nExel\\r\\nPower Point\\r\\nAcces\\r\\nİnternet Erişim\\n\\n\\n', '\\n\\n\\nSertifika Adı\\nTOPLUM LİDERLERİ GELİYOR\\n\\n\\nSertifika Tarihi 11.2012\\n\\nAlındığı Kurum ROTARY KULÜBÜ\\n\\n\\nAçıklama KATILDIĞI SEMİNERLER VE ETKİNLİKLER : \\r\\nStres ve zeka Yönetimi-\\r\\nYeter ki inan-\\r\\nLiderlik-\\r\\nGörgü Görenek-\\r\\nBeden Dili-\\r\\nMotivasyon ve Özgüven-\\r\\nGüzel Giyinmenin Sırları-\\r\\nTakım Oyunları-\\r\\nEtkili İletişim-\\r\\nKendi Everestinize Tırmanın-\\r\\nCilt Bakımı ve Makyaz Eğitimi\\n\\n', '\\n\\nSertifika Adı\\nTOPLUM LİDERLERİ GELİYOR\\n\\n\\nSertifika Tarihi 11.2012\\n\\nAlındığı Kurum ROTARY KULÜBÜ\\n', '\\nSertifika Adı\\nTOPLUM LİDERLERİ GELİYOR\\n', '\\nSertifika Tarihi 11.2012\\n', 'Alındığı Kurum ROTARY KULÜBÜ', '\\nAçıklama KATILDIĞI SEMİNERLER VE ETKİNLİKLER : \\r\\nStres ve zeka Yönetimi-\\r\\nYeter ki inan-\\r\\nLiderlik-\\r\\nGörgü Görenek-\\r\\nBeden Dili-\\r\\nMotivasyon ve Özgüven-\\r\\nGüzel Giyinmenin Sırları-\\r\\nTakım Oyunları-\\r\\nEtkili İletişim-\\r\\nKendi Everestinize Tırmanın-\\r\\nCilt Bakımı ve Makyaz Eğitimi\\n', 'Açıklama KATILDIĞI SEMİNERLER VE ETKİNLİKLER : \\r\\nStres ve zeka Yönetimi-\\r\\nYeter ki inan-\\r\\nLiderlik-\\r\\nGörgü Görenek-\\r\\nBeden Dili-\\r\\nMotivasyon ve Özgüven-\\r\\nGüzel Giyinmenin Sırları-\\r\\nTakım Oyunları-\\r\\nEtkili İletişim-\\r\\nKendi Everestinize Tırmanın-\\r\\nCilt Bakımı ve Makyaz Eğitimi', '\\n\\n\\nSertifika Adı\\nBİLGİSAYAR MESLEK DALI EĞİTİM PROGRAMLARI KURS SERTİFİKASI\\n\\n\\nSertifika Tarihi 07.2004\\n\\nAlındığı Kurum MED\\n\\n\\nAçıklama Kurs içeriği:\\r\\nWindows\\r\\nWord\\r\\nExel\\r\\nPower Point\\r\\nAcces\\r\\nİnternet Erişim\\n\\n', '\\n\\nSertifika Adı\\nBİLGİSAYAR MESLEK DALI EĞİTİM PROGRAMLARI KURS SERTİFİKASI\\n\\n\\nSertifika Tarihi 07.2004\\n\\nAlındığı Kurum MED\\n', '\\nSertifika Adı\\nBİLGİSAYAR MESLEK DALI EĞİTİM PROGRAMLARI KURS SERTİFİKASI\\n', '\\nSertifika Tarihi 07.2004\\n', 'Alındığı Kurum MED', '\\nAçıklama Kurs içeriği:\\r\\nWindows\\r\\nWord\\r\\nExel\\r\\nPower Point\\r\\nAcces\\r\\nİnternet Erişim\\n', 'Açıklama Kurs içeriği:\\r\\nWindows\\r\\nWord\\r\\nExel\\r\\nPower Point\\r\\nAcces\\r\\nİnternet Erişim', '\\n\\nSeminerler ve Kurslar\\n\\n\\n\\n\\n\\nEğitim Adı\\nMEB onaylı elginkan vakfı 3d studio max\\n\\n\\nEğitim Tarihi\\n\\r\\n                                                                                01.03.2012  01.04.2012\\r\\n                                                                                \\r\\n                                                                            \\n\\n\\nSüre (Saat) 68 Saat\\n\\nEğitim Kurumu Elignkan Vakfı\\n\\n\\n\\n\\n\\n\\n\\nEğitim Adı\\nGrafik Tasarım ve Animasyon Uygulamaları\\n\\n\\nEğitim Tarihi\\n\\r\\n                                                                                01.05.2011  01.06.2011\\r\\n                                                                                \\r\\n                                                                            \\n\\n\\nSüre (Saat) 90 Saat\\n\\nEğitim Kurumu Elginkan Vakfı\\n\\n\\n\\n\\n\\n', '\\nSeminerler ve Kurslar\\n', '\\n\\n\\n\\nEğitim Adı\\nMEB onaylı elginkan vakfı 3d studio max\\n\\n\\nEğitim Tarihi\\n\\r\\n                                                                                01.03.2012  01.04.2012\\r\\n                                                                                \\r\\n                                                                            \\n\\n\\nSüre (Saat) 68 Saat\\n\\nEğitim Kurumu Elignkan Vakfı\\n\\n\\n\\n\\n\\n\\n\\nEğitim Adı\\nGrafik Tasarım ve Animasyon Uygulamaları\\n\\n\\nEğitim Tarihi\\n\\r\\n                                                                                01.05.2011  01.06.2011\\r\\n                                                                                \\r\\n                                                                            \\n\\n\\nSüre (Saat) 90 Saat\\n\\nEğitim Kurumu Elginkan Vakfı\\n\\n\\n\\n\\n', '\\n\\n\\nEğitim Adı\\nMEB onaylı elginkan vakfı 3d studio max\\n\\n\\nEğitim Tarihi\\n\\r\\n                                                                                01.03.2012  01.04.2012\\r\\n                                                                                \\r\\n                                                                            \\n\\n\\nSüre (Saat) 68 Saat\\n\\nEğitim Kurumu Elignkan Vakfı\\n\\n\\n\\n', '\\n\\nEğitim Adı\\nMEB onaylı elginkan vakfı 3d studio max\\n\\n\\nEğitim Tarihi\\n\\r\\n                                                                                01.03.2012  01.04.2012\\r\\n                                                                                \\r\\n                                                                            \\n\\n\\nSüre (Saat) 68 Saat\\n\\nEğitim Kurumu Elignkan Vakfı\\n', '\\nEğitim Adı\\nMEB onaylı elginkan vakfı 3d studio max\\n', '\\nEğitim Tarihi\\n\\r\\n                                                                                01.03.2012  01.04.2012\\r\\n                                                                                \\r\\n                                                                            \\n', '\\nSüre (Saat) 68 Saat\\n', 'Eğitim Kurumu Elignkan Vakfı', '\\n', '\\n\\n\\nEğitim Adı\\nGrafik Tasarım ve Animasyon Uygulamaları\\n\\n\\nEğitim Tarihi\\n\\r\\n                                                                                01.05.2011  01.06.2011\\r\\n                                                                                \\r\\n                                                                            \\n\\n\\nSüre (Saat) 90 Saat\\n\\nEğitim Kurumu Elginkan Vakfı\\n\\n\\n\\n', '\\n\\nEğitim Adı\\nGrafik Tasarım ve Animasyon Uygulamaları\\n\\n\\nEğitim Tarihi\\n\\r\\n                                                                                01.05.2011  01.06.2011\\r\\n                                                                                \\r\\n                                                                            \\n\\n\\nSüre (Saat) 90 Saat\\n\\nEğitim Kurumu Elginkan Vakfı\\n', '\\nEğitim Adı\\nGrafik Tasarım ve Animasyon Uygulamaları\\n', '\\nEğitim Tarihi\\n\\r\\n                                                                                01.05.2011  01.06.2011\\r\\n                                                                                \\r\\n                                                                            \\n', '\\nSüre (Saat) 90 Saat\\n', 'Eğitim Kurumu Elginkan Vakfı', '\\n', '\\n\\nYetenekler\\n\\n\\nJavaScript Object Notation (JSON)\\nResim\\nRessam\\nResim Yapmak\\nResponsive Design\\nÖğretmen\\njQuery\\nHTML5\\njQuery\\nArt Diractor\\nCSS / HTML\\nPHP (İyi)\\nHtml, Css, Php\\nApache PHP Mysql\\nAdobe After Effects(İleri)\\nAdobe Indesign (Üst Seviye)\\nAdobe Flash (İyi Seviye)\\n•\\tAdobe Dreamwear(İyi Derece)\\n•\\tAdobe Illustrator(İyi Derece)\\n•\\tAdobe Photoshop(İyi Derece)\\nMental Ray Renderer\\n3D Max\\n3D Design\\n3D Animation\\nProfesyönel Fotoğrafçılık\\nGrafık Tasarım\\nResim Öğretmeni\\nGrafık Tasarım Resım\\nGörsel Tasarım Ve  Sanatsal Çizim Resim\\n\\n', '\\nYetenekler\\n', '\\nJavaScript Object Notation (JSON)\\nResim\\nRessam\\nResim Yapmak\\nResponsive Design\\nÖğretmen\\njQuery\\nHTML5\\njQuery\\nArt Diractor\\nCSS / HTML\\nPHP (İyi)\\nHtml, Css, Php\\nApache PHP Mysql\\nAdobe After Effects(İleri)\\nAdobe Indesign (Üst Seviye)\\nAdobe Flash (İyi Seviye)\\n•\\tAdobe Dreamwear(İyi Derece)\\n•\\tAdobe Illustrator(İyi Derece)\\n•\\tAdobe Photoshop(İyi Derece)\\nMental Ray Renderer\\n3D Max\\n3D Design\\n3D Animation\\nProfesyönel Fotoğrafçılık\\nGrafık Tasarım\\nResim Öğretmeni\\nGrafık Tasarım Resım\\nGörsel Tasarım Ve  Sanatsal Çizim Resim\\n']]\n"
     ]
    }
   ],
   "source": [
    "## education info \n",
    "\n",
    "import bs4\n",
    "import requests\n",
    "import re\n",
    "from bs4 import BeautifulSoup\n",
    "personal_url = 'https://www.kariyer.net/ozgecmis/ahmetcan81'\n",
    "response = requests.get(personal_url)\n",
    "html = response.content\n",
    "soup = BeautifulSoup(html, \"html.parser\")\n",
    "comp=[]\n",
    "temp=[]\n",
    "index=[0,1,6,11]\n",
    "mix_comp=[]\n",
    "competences=[]\n",
    "sobject_1 = soup.find('div', class_=\"resume-edit--competences-info\")\n",
    "sobject_2 = sobject_1.find('div', class_=\"resume-edit--box\")\n",
    "sobject_3 = sobject_2.find('div', class_=\"container\")\n",
    "sobject_4 = sobject_3.find_all('div',class_='fields col-3')\n",
    "sobject_5=sobject_3.find_all('div',class_='fields col-13')\n",
    "# print(sobject_3.find_all('span'))\n",
    "\n",
    "# for i in sobject_4:\n",
    "    \n",
    "\n",
    "\n",
    "for span in sobject_3.find_all('div'):\n",
    "    comp.append(span.text)\n",
    "    \n",
    "    \n",
    "\n",
    "temp=comp.copy()\n",
    "comp.clear()\n",
    "competences.append(temp)\n",
    "print(competences)\n",
    "\n",
    "#print(len(sobject_4))\n",
    "# for tmp_obj1 in sobject_4: \n",
    "#     for span in tmp_obj1.find_all('span',class_=['field-name','field-content']):\n",
    "#         comp.append(span.text)\n",
    "#     temp=comp.copy()\n",
    "#     comp.clear()\n",
    "#     mix_comp.append(temp)\n",
    "# for i in index:\n",
    "#     competences.append(mix_comp[i])\n",
    "    \n",
    "# print(competences)\n",
    "\n",
    "    \n",
    "#     result7 = tmp_obj1.find('div', class_='fields col-3')\n",
    "#     result8 = tmp_obj1.find('div', class_='fields col-13')\n",
    "#     print(tmp_obj1)    \n",
    "#     print(\"----------------------------------------------\")\n",
    "\n",
    "     "
   ]
  },
  {
   "cell_type": "code",
   "execution_count": null,
   "metadata": {},
   "outputs": [],
   "source": []
  }
 ],
 "metadata": {
  "kernelspec": {
   "display_name": "Python 3",
   "language": "python",
   "name": "python3"
  },
  "language_info": {
   "codemirror_mode": {
    "name": "ipython",
    "version": 3
   },
   "file_extension": ".py",
   "mimetype": "text/x-python",
   "name": "python",
   "nbconvert_exporter": "python",
   "pygments_lexer": "ipython3",
   "version": "3.6.9"
  }
 },
 "nbformat": 4,
 "nbformat_minor": 4
}
