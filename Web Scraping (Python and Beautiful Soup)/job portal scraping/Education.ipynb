{
 "cells": [
  {
   "cell_type": "code",
   "execution_count": 1,
   "metadata": {},
   "outputs": [],
   "source": [
    "import csv\n",
    "import sys\n",
    "import requests\n",
    "import bs4\n",
    "from bs4 import BeautifulSoup"
   ]
  },
  {
   "cell_type": "code",
   "execution_count": 9,
   "metadata": {},
   "outputs": [],
   "source": [
    "FILE_NAME_2 =[]\n",
    "FILE_NAME_3='educations.csv'\n",
    "FILE_NAME = FILE_NAME_3\n",
    "academic_qualifications=[]"
   ]
  },
  {
   "cell_type": "code",
   "execution_count": 10,
   "metadata": {},
   "outputs": [],
   "source": [
    "def get_academic_qualifications(pid, url):\n",
    "    personal_url = url\n",
    "    response = requests.get(personal_url)\n",
    "    html = response.content\n",
    "    soup = BeautifulSoup(html, \"html.parser\")\n",
    "    sobject_1 = soup.find('div', class_=\"resume-edit--education-info\")\n",
    "    sobject_2 = sobject_1.find('div', class_=\"resume-edit--box\")\n",
    "    sobject_3 = sobject_2.find('div', class_=\"container\")\n",
    "    sobject_4 = sobject_3.find_all('div', class_=\"university\")\n",
    "    #print(len(sobject_4))\n",
    "    edu=[]\n",
    "    temp=[]\n",
    "    educations=[]\n",
    "    academic_id=1;\n",
    "    for tmp_obj1 in sobject_4:\n",
    "        #result5 = tmp_obj1.find('div', class_='fields col-16 education-status')    \n",
    "        #result6 = result5.find('span', class_='field-content')    \n",
    "        #university_name = result6.text\n",
    "        #print(university_name)\n",
    "        result7 = tmp_obj1.find('div', class_='fields col-13')\n",
    "        result8 = tmp_obj1.find('div', class_='row university-info')\n",
    "        edu.append(pid)\n",
    "        edu.append(academic_id)\n",
    "        for span in result8.find_all('span',class_='field-content'):\n",
    "            edu.append(span.text.strip().replace('\\n',''))\n",
    "        temp=edu.copy()\n",
    "        edu.clear()\n",
    "        educations.append(temp)\n",
    "        academic_id+=1\n",
    "    return educations"
   ]
  },
  {
   "cell_type": "code",
   "execution_count": 15,
   "metadata": {},
   "outputs": [],
   "source": [
    "def create_csv():\n",
    "    try:\n",
    "        with open(FILE_NAME, mode='a', encoding='utf-8') as file:\n",
    "            columns=['person_id','academic_id','level','university','department',\"start_date\", \"end_date\", \"education_type\", 'instution_language', 'minor_department','remarks']\n",
    "            writer = csv.writer(file, delimiter=';', quotechar='\"', quoting=csv.QUOTE_MINIMAL, lineterminator='\\n')            \n",
    "            writer.writerow(columns)\n",
    "        file.close()\n",
    "        return True\n",
    "    except:\n",
    "        print(\"Error : \",sys.exc_info()[1])\n",
    "        return False  "
   ]
  },
  {
   "cell_type": "code",
   "execution_count": 16,
   "metadata": {},
   "outputs": [],
   "source": [
    "def write_academic_qualifications(academic_qualifications):\n",
    "    try:\n",
    "        with open(FILE_NAME, mode='w', encoding='utf-8') as file:\n",
    "            writer = csv.writer(file, delimiter=';', quotechar='\"', quoting=csv.QUOTE_MINIMAL, lineterminator='\\n')\n",
    "            #columns=['person_id','experince_id','duration','position','company_name','city','start_date','end_date','mode_of_work','description']\n",
    "            for item in academic_qualifications:\n",
    "                tmp_row =[]\n",
    "                for value in item:\n",
    "                    tmp_row.append(value)\n",
    "                #print(tmp_row)\n",
    "                writer.writerow(tmp_row)\n",
    "        file.close()\n",
    "        return True\n",
    "    except:\n",
    "        print(\"Error : \",sys.exc_info()[1])\n",
    "        return False"
   ]
  },
  {
   "cell_type": "code",
   "execution_count": 17,
   "metadata": {},
   "outputs": [
    {
     "name": "stdout",
     "output_type": "stream",
     "text": [
      "[[1, 1, 'Abant İzzet Baysal Üniversitesi', 'Resim-İş Öğretmenliği', '08.2010', '08.2014', 'Örgün Öğretim', 'Türkçe', 'Grafik Sanatları'], [1, 2, 'Güzel Sanatlar lisesi', 'Resim', '05.2010', 'Güzel Sanatlar Lisesi']]\n"
     ]
    }
   ],
   "source": [
    "pid = 1\n",
    "url = 'https://www.kariyer.net/ozgecmis/ahmetcan81'\n",
    "academic_qualifications = get_academic_qualifications(pid, url)\n",
    "print(academic_qualifications)"
   ]
  },
  {
   "cell_type": "code",
   "execution_count": 18,
   "metadata": {},
   "outputs": [
    {
     "data": {
      "text/plain": [
       "True"
      ]
     },
     "execution_count": 18,
     "metadata": {},
     "output_type": "execute_result"
    }
   ],
   "source": [
    "create_csv()"
   ]
  },
  {
   "cell_type": "code",
   "execution_count": 19,
   "metadata": {
    "scrolled": true
   },
   "outputs": [
    {
     "data": {
      "text/plain": [
       "True"
      ]
     },
     "execution_count": 19,
     "metadata": {},
     "output_type": "execute_result"
    }
   ],
   "source": [
    "write_academic_qualifications(academic_qualifications)"
   ]
  },
  {
   "cell_type": "code",
   "execution_count": null,
   "metadata": {},
   "outputs": [],
   "source": []
  }
 ],
 "metadata": {
  "kernelspec": {
   "display_name": "Python 3",
   "language": "python",
   "name": "python3"
  },
  "language_info": {
   "codemirror_mode": {
    "name": "ipython",
    "version": 3
   },
   "file_extension": ".py",
   "mimetype": "text/x-python",
   "name": "python",
   "nbconvert_exporter": "python",
   "pygments_lexer": "ipython3",
   "version": "3.6.9"
  }
 },
 "nbformat": 4,
 "nbformat_minor": 4
}
